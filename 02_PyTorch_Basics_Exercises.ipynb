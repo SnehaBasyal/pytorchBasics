{
  "cells": [
    {
      "cell_type": "markdown",
      "metadata": {
        "collapsed": true,
        "jupyter": {
          "outputs_hidden": true
        },
        "id": "RHN5NO4hRtPq"
      },
      "source": [
        "# PyTorch Basics Exercises\n",
        "For these exercises we'll create a tensor and perform several operations on it.\n",
        "\n",
        "<div class=\"alert alert-danger\" style=\"margin: 10px\"><strong>IMPORTANT NOTE!</strong> Make sure you don't run the cells directly above the example output shown, <br>otherwise you will end up writing over the example output!</div>"
      ]
    },
    {
      "cell_type": "markdown",
      "metadata": {
        "id": "FCON3OtPRtPs"
      },
      "source": [
        "### 1. Perform standard imports\n",
        "Import torch and NumPy"
      ]
    },
    {
      "cell_type": "code",
      "execution_count": 9,
      "metadata": {
        "id": "baCVTUCGRtPt"
      },
      "outputs": [],
      "source": [
        "# CODE HERE\n",
        "import torch\n",
        "import numpy as np\n",
        "\n"
      ]
    },
    {
      "cell_type": "markdown",
      "metadata": {
        "id": "v3U8qKM3RtPu"
      },
      "source": [
        "### 2. Set the random seed for NumPy and PyTorch both to \"42\"\n",
        "This allows us to share the same \"random\" results."
      ]
    },
    {
      "cell_type": "code",
      "execution_count": 10,
      "metadata": {
        "id": "1A_zk00BRtPu",
        "colab": {
          "base_uri": "https://localhost:8080/"
        },
        "outputId": "829bdf02-51d3-4557-9cae-ad1aa495dee6"
      },
      "outputs": [
        {
          "output_type": "execute_result",
          "data": {
            "text/plain": [
              "<torch._C.Generator at 0x78ac6a70d2b0>"
            ]
          },
          "metadata": {},
          "execution_count": 10
        }
      ],
      "source": [
        "# CODE HERE\n",
        "np.random.seed(42)\n",
        "torch.manual_seed(42)\n"
      ]
    },
    {
      "cell_type": "markdown",
      "metadata": {
        "id": "eAfZpULcRtPv"
      },
      "source": [
        "### 3. Create a NumPy array called \"arr\" that contains 6 random integers between 0 (inclusive) and 5 (exclusive)"
      ]
    },
    {
      "cell_type": "code",
      "execution_count": 11,
      "metadata": {
        "id": "bh8ntzGpRtPv",
        "colab": {
          "base_uri": "https://localhost:8080/"
        },
        "outputId": "b681b877-dfa9-4d36-e9e0-49803c5ed329"
      },
      "outputs": [
        {
          "output_type": "stream",
          "name": "stdout",
          "text": [
            "[3 4 2 4 4 1]\n"
          ]
        }
      ],
      "source": [
        "# CODE HERE\n",
        "arr = np.random.randint(0,5,6)\n",
        "print(arr)\n"
      ]
    },
    {
      "cell_type": "code",
      "execution_count": null,
      "metadata": {
        "id": "bu_rwFKZRtPv",
        "outputId": "666b28e1-fdab-4448-fa26-ccf30e114d4a"
      },
      "outputs": [
        {
          "name": "stdout",
          "output_type": "stream",
          "text": [
            "[3 4 2 4 4 1]\n"
          ]
        }
      ],
      "source": [
        "# DON'T WRITE HERE"
      ]
    },
    {
      "cell_type": "markdown",
      "metadata": {
        "id": "qZhUHBFHRtPx"
      },
      "source": [
        "### 4. Create a tensor \"x\" from the array above"
      ]
    },
    {
      "cell_type": "code",
      "execution_count": 12,
      "metadata": {
        "id": "IF74fsXrRtPx",
        "colab": {
          "base_uri": "https://localhost:8080/"
        },
        "outputId": "9bc83537-d56c-4a05-b997-51cb5d6fbf6d"
      },
      "outputs": [
        {
          "output_type": "stream",
          "name": "stdout",
          "text": [
            "tensor([3, 4, 2, 4, 4, 1]) torch.int64\n"
          ]
        }
      ],
      "source": [
        "# CODE HERE\n",
        "x=torch.tensor(arr)\n",
        "print(x,x.dtype)\n"
      ]
    },
    {
      "cell_type": "code",
      "execution_count": null,
      "metadata": {
        "id": "1brYJE8zRtPy",
        "outputId": "124cfa9b-54b9-49d5-b139-c0132735e698"
      },
      "outputs": [
        {
          "name": "stdout",
          "output_type": "stream",
          "text": [
            "tensor([3, 4, 2, 4, 4, 1], dtype=torch.int32)\n"
          ]
        }
      ],
      "source": [
        "# DON'T WRITE HERE"
      ]
    },
    {
      "cell_type": "markdown",
      "metadata": {
        "id": "jleQh0xERtPy"
      },
      "source": [
        "### 5. Change the dtype of x from 'int32' to 'int64'\n",
        "Note: 'int64' is also called 'LongTensor'"
      ]
    },
    {
      "cell_type": "code",
      "execution_count": 14,
      "metadata": {
        "id": "xSG64hyVRtPz",
        "colab": {
          "base_uri": "https://localhost:8080/"
        },
        "outputId": "dedbe1da-56e3-4eea-f90b-6d060524aadf"
      },
      "outputs": [
        {
          "output_type": "stream",
          "name": "stdout",
          "text": [
            "tensor([3, 4, 2, 4, 4, 1])\n"
          ]
        }
      ],
      "source": [
        "# CODE HERE\n",
        "x = torch.LongTensor([3, 4, 2, 4, 4, 1])\n",
        "print(x)\n",
        "\n"
      ]
    },
    {
      "cell_type": "code",
      "execution_count": null,
      "metadata": {
        "id": "dNyPGG_eRtPz",
        "outputId": "c6c062a1-59a6-4c88-ac98-87efc324cb40"
      },
      "outputs": [
        {
          "name": "stdout",
          "output_type": "stream",
          "text": [
            "torch.LongTensor\n"
          ]
        }
      ],
      "source": [
        "# DON'T WRITE HERE"
      ]
    },
    {
      "cell_type": "markdown",
      "metadata": {
        "id": "v2Tg9CMBRtPz"
      },
      "source": [
        "### 6. Reshape x into a 3x2 tensor\n",
        "There are several ways to do this."
      ]
    },
    {
      "cell_type": "code",
      "execution_count": 15,
      "metadata": {
        "id": "ePLHq6psRtP0",
        "colab": {
          "base_uri": "https://localhost:8080/"
        },
        "outputId": "6146ae74-d621-453b-e173-7f56994668ca"
      },
      "outputs": [
        {
          "output_type": "stream",
          "name": "stdout",
          "text": [
            "tensor([[3, 4],\n",
            "        [2, 4],\n",
            "        [4, 1]])\n"
          ]
        }
      ],
      "source": [
        "# CODE HERE\n",
        "x=np.reshape(x,(3,2))\n",
        "print(x)\n"
      ]
    },
    {
      "cell_type": "code",
      "execution_count": null,
      "metadata": {
        "id": "68uzVuFJRtP0",
        "outputId": "f32cc87f-c20e-4bc9-c752-1c66f1efd1db"
      },
      "outputs": [
        {
          "name": "stdout",
          "output_type": "stream",
          "text": [
            "tensor([[3, 4],\n",
            "        [2, 4],\n",
            "        [4, 1]])\n"
          ]
        }
      ],
      "source": [
        "# DON'T WRITE HERE"
      ]
    },
    {
      "cell_type": "markdown",
      "metadata": {
        "id": "ABUgHc-vRtP0"
      },
      "source": [
        "### 7. Return the right-hand column of tensor x"
      ]
    },
    {
      "cell_type": "code",
      "execution_count": 16,
      "metadata": {
        "id": "s7Pb-bV4RtP0",
        "colab": {
          "base_uri": "https://localhost:8080/"
        },
        "outputId": "3bfa7500-efe6-44c3-ab93-af11e796f717"
      },
      "outputs": [
        {
          "output_type": "stream",
          "name": "stdout",
          "text": [
            "tensor([[4],\n",
            "        [4],\n",
            "        [1]])\n"
          ]
        }
      ],
      "source": [
        "# CODE HERE\n",
        "right=print(x[:,1:])\n",
        "\n"
      ]
    },
    {
      "cell_type": "code",
      "execution_count": null,
      "metadata": {
        "id": "NA3u12QWRtP1",
        "outputId": "b3ce1225-90f8-4a67-a72b-5ae38121aac5"
      },
      "outputs": [
        {
          "name": "stdout",
          "output_type": "stream",
          "text": [
            "tensor([[4],\n",
            "        [4],\n",
            "        [1]])\n"
          ]
        }
      ],
      "source": [
        "# DON'T WRITE HERE"
      ]
    },
    {
      "cell_type": "markdown",
      "metadata": {
        "id": "4mJfuyLhRtP1"
      },
      "source": [
        "### 8. Without changing x, return a tensor of square values of x\n",
        "There are several ways to do this."
      ]
    },
    {
      "cell_type": "code",
      "execution_count": 17,
      "metadata": {
        "id": "1JCW2x45RtP1",
        "colab": {
          "base_uri": "https://localhost:8080/"
        },
        "outputId": "8ca34589-72d4-44c8-8d49-90f021edd3bc"
      },
      "outputs": [
        {
          "output_type": "execute_result",
          "data": {
            "text/plain": [
              "tensor([[ 9, 16],\n",
              "        [ 4, 16],\n",
              "        [16,  1]])"
            ]
          },
          "metadata": {},
          "execution_count": 17
        }
      ],
      "source": [
        "# CODE HERE\n",
        "np.reshape(x**2,(3,2))\n"
      ]
    },
    {
      "cell_type": "code",
      "execution_count": null,
      "metadata": {
        "id": "lBPjXAf2RtP2",
        "outputId": "26c7b283-d097-478d-ea59-90452f06d5f3"
      },
      "outputs": [
        {
          "name": "stdout",
          "output_type": "stream",
          "text": [
            "tensor([[ 9, 16],\n",
            "        [ 4, 16],\n",
            "        [16,  1]])\n"
          ]
        }
      ],
      "source": [
        "# DON'T WRITE HERE"
      ]
    },
    {
      "cell_type": "markdown",
      "metadata": {
        "id": "ZvN4U8QNRtP2"
      },
      "source": [
        "### 9. Create a tensor \"y\" with the same number of elements as x, that can be matrix-multiplied with x\n",
        "Use PyTorch directly (not NumPy) to create a tensor of random integers between 0 (inclusive) and 5 (exclusive).<br>\n",
        "Think about what shape it should have to permit matrix multiplication."
      ]
    },
    {
      "cell_type": "code",
      "execution_count": 18,
      "metadata": {
        "id": "TnKi-cRLRtP2",
        "colab": {
          "base_uri": "https://localhost:8080/"
        },
        "outputId": "3a3332ec-4cdc-41cc-851b-f4ec89574b5d"
      },
      "outputs": [
        {
          "output_type": "stream",
          "name": "stdout",
          "text": [
            "tensor([[2, 2, 1],\n",
            "        [4, 1, 0]])\n"
          ]
        }
      ],
      "source": [
        "# CODE HERE\n",
        "y=torch.randint(0,5,(2,3))\n",
        "print(y)\n"
      ]
    },
    {
      "cell_type": "code",
      "execution_count": null,
      "metadata": {
        "id": "fMl6Dx20RtP2",
        "outputId": "2aee1c7c-63f9-43b9-e17b-bea1b03148b2"
      },
      "outputs": [
        {
          "name": "stdout",
          "output_type": "stream",
          "text": [
            "tensor([[2, 2, 1],\n",
            "        [4, 1, 0]])\n"
          ]
        }
      ],
      "source": [
        "# DON'T WRITE HERE"
      ]
    },
    {
      "cell_type": "markdown",
      "metadata": {
        "id": "wiFeXATJRtP3"
      },
      "source": [
        "### 10. Find the matrix product of x and y"
      ]
    },
    {
      "cell_type": "code",
      "execution_count": 19,
      "metadata": {
        "id": "R8tU_7xYRtP3",
        "colab": {
          "base_uri": "https://localhost:8080/"
        },
        "outputId": "293ad217-6e3c-47ec-f7c5-27c48a40eadb"
      },
      "outputs": [
        {
          "output_type": "stream",
          "name": "stdout",
          "text": [
            "tensor([[22, 10,  3],\n",
            "        [20,  8,  2],\n",
            "        [12,  9,  4]])\n"
          ]
        }
      ],
      "source": [
        "# CODE HERE\n",
        "print(torch.mm(x,y))\n"
      ]
    },
    {
      "cell_type": "code",
      "execution_count": null,
      "metadata": {
        "id": "KqshgirpRtP3",
        "outputId": "d829478f-9ced-4d0a-f289-e9a5f396dd8e"
      },
      "outputs": [
        {
          "name": "stdout",
          "output_type": "stream",
          "text": [
            "tensor([[22, 10,  3],\n",
            "        [20,  8,  2],\n",
            "        [12,  9,  4]])\n"
          ]
        }
      ],
      "source": [
        "# DON'T WRITE HERE"
      ]
    },
    {
      "cell_type": "markdown",
      "metadata": {
        "id": "jUstGry8RtP3"
      },
      "source": [
        "## Great job!"
      ]
    }
  ],
  "metadata": {
    "kernelspec": {
      "display_name": "Python 3 (ipykernel)",
      "language": "python",
      "name": "python3"
    },
    "language_info": {
      "codemirror_mode": {
        "name": "ipython",
        "version": 3
      },
      "file_extension": ".py",
      "mimetype": "text/x-python",
      "name": "python",
      "nbconvert_exporter": "python",
      "pygments_lexer": "ipython3",
      "version": "3.12.3"
    },
    "colab": {
      "provenance": []
    }
  },
  "nbformat": 4,
  "nbformat_minor": 0
}